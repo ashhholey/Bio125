{
 "cells": [
  {
   "cell_type": "markdown",
   "id": "76038eba",
   "metadata": {},
   "source": [
    "# Independent Project\n",
    "## Will taking Magnesium Glycinate affect my sleep?"
   ]
  },
  {
   "cell_type": "markdown",
   "id": "9b175219",
   "metadata": {},
   "source": [
    "## Purpose\n",
    "According to medicalnewstoday.com, there is mixed evidence about using magnesium glycinate for sleep, and more research is necessary. Magnesium may help with sleep regulation and improve overall sleep quality, including addressing insomnia. \n",
    "\n",
    "Magnesium is essential for managing blood pressure and other functions. People with a magnesium deficiency may benefit from magnesium glycinate, a supplement that increases magnesium levels.\n",
    "\n",
    "Magnesium glycinate is also known as magnesium diglycinate and magnesium bisglycinate.\n",
    "\n",
    "Magnesium is a vital nutrient for regulating many body processes, including muscle and nerve function, blood sugar levels, and blood pressure. This mineral also supports the making of protein, bone, and DNA. "
   ]
  },
  {
   "cell_type": "markdown",
   "id": "a45b5d8f",
   "metadata": {},
   "source": [
    "## Hypothesis\n",
    "Taking magnesium glyinate 2 hours prior to bedtime will help me sleep better being uninterupted and reducing restless sleep"
   ]
  },
  {
   "cell_type": "markdown",
   "id": "97bd4893",
   "metadata": {},
   "source": [
    "## Methods\n",
    "1. Research \n",
    "-the recommended dosage for females: 31 years and older is 320 mg\n",
    "-side effects:\n",
    "-quality of supplement\n",
    "-ingredients \n",
    "-costs of supplement\n",
    "-sleep app instructions\n",
    "2. Record sleep 4 nights without taking magnesium glyinate with an Apple iWatch \n",
    "3. Record sleep 4 nights with taking magnesium glyinate with an Apple iWatch"
   ]
  },
  {
   "cell_type": "code",
   "execution_count": 1,
   "id": "9b3fb34d",
   "metadata": {
    "tags": []
   },
   "outputs": [],
   "source": [
    "# import packages\n",
    "import statistics \n",
    "import pandas as pd\n",
    "import scipy.stats as stats\n",
    "from scipy.stats import sem\n",
    "from statistics import mean, stdev\n",
    "import matplotlib.pyplot as plt\n",
    "import numpy as np\n",
    "#include if using a jupyter notebook, remove if using a .py file\n",
    "%matplotlib inline \n",
    "import matplotlib.pyplot as plt"
   ]
  },
  {
   "cell_type": "code",
   "execution_count": 2,
   "id": "3172a963",
   "metadata": {
    "tags": []
   },
   "outputs": [
    {
     "data": {
      "text/html": [
       "<div>\n",
       "<style scoped>\n",
       "    .dataframe tbody tr th:only-of-type {\n",
       "        vertical-align: middle;\n",
       "    }\n",
       "\n",
       "    .dataframe tbody tr th {\n",
       "        vertical-align: top;\n",
       "    }\n",
       "\n",
       "    .dataframe thead th {\n",
       "        text-align: right;\n",
       "    }\n",
       "</style>\n",
       "<table border=\"1\" class=\"dataframe\">\n",
       "  <thead>\n",
       "    <tr style=\"text-align: right;\">\n",
       "      <th></th>\n",
       "      <th>Unnamed: 0</th>\n",
       "      <th>NORMAL W/O MG GLYCINATE</th>\n",
       "      <th>WITH MG GLYCINATE</th>\n",
       "    </tr>\n",
       "  </thead>\n",
       "  <tbody>\n",
       "    <tr>\n",
       "      <th>0</th>\n",
       "      <td>DEEP</td>\n",
       "      <td>51.25</td>\n",
       "      <td>50.25</td>\n",
       "    </tr>\n",
       "    <tr>\n",
       "      <th>1</th>\n",
       "      <td>CORE</td>\n",
       "      <td>329.00</td>\n",
       "      <td>287.75</td>\n",
       "    </tr>\n",
       "    <tr>\n",
       "      <th>2</th>\n",
       "      <td>REM</td>\n",
       "      <td>104.25</td>\n",
       "      <td>96.25</td>\n",
       "    </tr>\n",
       "    <tr>\n",
       "      <th>3</th>\n",
       "      <td>TOTAL MINS SLEPT</td>\n",
       "      <td>478.75</td>\n",
       "      <td>434.25</td>\n",
       "    </tr>\n",
       "  </tbody>\n",
       "</table>\n",
       "</div>"
      ],
      "text/plain": [
       "         Unnamed: 0  NORMAL W/O MG GLYCINATE  WITH MG GLYCINATE\n",
       "0              DEEP                    51.25              50.25\n",
       "1             CORE                    329.00             287.75\n",
       "2               REM                   104.25              96.25\n",
       "3  TOTAL MINS SLEPT                   478.75             434.25"
      ]
     },
     "execution_count": 2,
     "metadata": {},
     "output_type": "execute_result"
    }
   ],
   "source": [
    "## Results\n",
    "df = pd.read_excel(\"ind project2.xlsx\")\n",
    "df"
   ]
  },
  {
   "cell_type": "code",
   "execution_count": 3,
   "id": "82d14d6f",
   "metadata": {
    "tags": []
   },
   "outputs": [],
   "source": [
    "import pandas as pd"
   ]
  },
  {
   "cell_type": "code",
   "execution_count": 4,
   "id": "80cff599-12f3-4f05-b371-e96d0dfa98a8",
   "metadata": {
    "tags": []
   },
   "outputs": [
    {
     "ename": "SyntaxError",
     "evalue": "invalid syntax (1096836446.py, line 2)",
     "output_type": "error",
     "traceback": [
      "\u001b[0;36m  Cell \u001b[0;32mIn[4], line 2\u001b[0;36m\u001b[0m\n\u001b[0;31m    Normal w/o Mg Glyicinate_sem = sem(f_Normal w/o Mg Glyicinate)\u001b[0m\n\u001b[0m           ^\u001b[0m\n\u001b[0;31mSyntaxError\u001b[0m\u001b[0;31m:\u001b[0m invalid syntax\n"
     ]
    }
   ],
   "source": [
    "\n",
    "#Calculate the SEM of data\n",
    "Normal w/o Mg Glyicinate_sem = sem(f_Normal w/o Mg Glyicinate)\n",
    "With Mg glycinate_sem = sem(m_With Mg glycinate)\n",
    "\n",
    "#Display the SEM\n",
    "Normal w/o Mg Glyicinate_sem, With Mg glycinate_sem"
   ]
  },
  {
   "cell_type": "code",
   "execution_count": 5,
   "id": "e78d0867",
   "metadata": {
    "tags": []
   },
   "outputs": [
    {
     "ename": "SyntaxError",
     "evalue": "invalid syntax. Perhaps you forgot a comma? (2203159777.py, line 2)",
     "output_type": "error",
     "traceback": [
      "\u001b[0;36m  Cell \u001b[0;32mIn[5], line 2\u001b[0;36m\u001b[0m\n\u001b[0;31m    plt.bar(['DEEP','CORE','REM','TOTAL MINS SLEPT'],yerr=[Normal w/o Mg Glyicinate_sem, With Mg glycinate_sem] capsize=10)\u001b[0m\n\u001b[0m                                                           ^\u001b[0m\n\u001b[0;31mSyntaxError\u001b[0m\u001b[0;31m:\u001b[0m invalid syntax. Perhaps you forgot a comma?\n"
     ]
    }
   ],
   "source": [
    "# build a bar plot\n",
    "plt.bar(['DEEP','CORE','REM','TOTAL MINS SLEPT'],yerr=[Normal w/o Mg Glyicinate_sem, With Mg glycinate_sem] capsize=10)\n",
    "plt.xlabel('Sleep Stages')\n",
    "plt.ylabel('Minutes Slept')\n",
    "plt.title('Comparison of Sleep with and without Supplement')\n",
    "plt.show()"
   ]
  },
  {
   "cell_type": "code",
   "execution_count": null,
   "id": "8872b27c",
   "metadata": {},
   "outputs": [],
   "source": [
    "## Conclusion \n",
    "On the nights that I had taken the magnesium glycinate supplements, I had less: deep, core, REM and minutes slept than on the nights I didn't take the supplement. The lack of magnesium in your system can disrupt your sleep cycle as well as the function of the sleep hormone, melatonin.  I conclude that my body is not lacking of magnesium therefore my sleep stages did not benefit from taking the magnesium glycinate supplement. "
   ]
  }
 ],
 "metadata": {
  "kernelspec": {
   "display_name": "Python 3 (ipykernel)",
   "language": "python",
   "name": "python3"
  },
  "language_info": {
   "codemirror_mode": {
    "name": "ipython",
    "version": 3
   },
   "file_extension": ".py",
   "mimetype": "text/x-python",
   "name": "python",
   "nbconvert_exporter": "python",
   "pygments_lexer": "ipython3",
   "version": "3.11.4"
  }
 },
 "nbformat": 4,
 "nbformat_minor": 5
}
