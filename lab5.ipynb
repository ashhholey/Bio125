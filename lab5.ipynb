{
  "metadata": {
    "language_info": {
      "name": ""
    },
    "kernelspec": {
      "name": "python",
      "display_name": "Python (Pyodide)",
      "language": "python"
    }
  },
  "nbformat_minor": 4,
  "nbformat": 4,
  "cells": [
    {
      "cell_type": "markdown",
      "source": "# Laboratory 5 Electroencephalography & Reaction Time",
      "metadata": {}
    },
    {
      "cell_type": "markdown",
      "source": "### Purpose \nElectroencephalography is the study of the electrical activity of the brain.  electroencephalograms are graphical records that measure brain wave activity",
      "metadata": {
        "jp-MarkdownHeadingCollapsed": true,
        "tags": []
      }
    },
    {
      "cell_type": "markdown",
      "source": "### Procedures\n\n5-A Recording Visual Reaction Times \n \n1. get things started\n            - plug in IWX/214 unit before anything is turned on then connect to USB cable on laptop\n            - EM-100 Event Marker is connected to Channel 3 socket in front of the IWX/214 unit\n2. open Lapscribe3 \n3. click SETTINGS tab go to drop down menu HUMAN NERVE that should lead to second tab AUDITORY-VISUALREFLEXES then close pdf file that opens automatically (not needed)\n4. pair with lab partner and arrange as follows\n            - student subject sit in chair facing the laptop computer with their hand in position so that they can press ENTER key as quickly as possible\n            - other lab partner hold EM100 Event Marker should stand out of sight of the student subject sitting because they need to quietly press and release the button of the Event Marker once the test begins\n5. type subject's name and \"Visual\" in the mark box click red RECORD button then click the mark button, this will put a vertical line in your recording and the words in the mark box at the bottom of the vertical line. leave cursor mouse over the mark box\n6. each time the lab partner quietly clicks the event marker button, the green line coming in from the right side of the computer screen will jump up then back down. as soon as the subject sees the green line jump up, they need to press ENTER key as quickly as possible\n7. repeat for 2 trials\n8. once lab partners have made their visual cues recordings, go back to the first trials. move the red cursor lines by left clicking on the red cursor line and while holding down the left mouse pad button, sliding your finger on the mouse pad to move one red cursor line to the left base of the green rectangle then releasing the left mouse pad button. move the other red cursor line to the black mark line\n9. record \"T2-T1\"= msec\n\n5-B recording Auditory Reaction Time\n\n1. get things started\n            - turn the laptop so the subject can still press ENTER but cannot see the screen. the subject's hand should be in a position so that they can press the ENTER key as quickly as possible\n            - lab partner holding EM100 event marker close to one of the subject's ears should stand out of sight of the subject\n2. type the subject's name and \"Auditory\" in the mark box then click red record button\n3. each time the lab partner clicks the event marker button near the subject's ear, the click should be audible to the subject. as soon as the subject hears the click they need to press ENTER as quickly as possible\n4. repeat for 2 trials \n5. repeat steps 7 and 8 from 5-A\n        ",
      "metadata": {}
    },
    {
      "cell_type": "markdown",
      "source": "### Results\nsee Excel spreadsheet (Lab 5 Results) for error bars and results ",
      "metadata": {}
    },
    {
      "cell_type": "markdown",
      "source": "### Discussion\nI believe the visual reaction time was slower then the reaction time for auditory because the EM100 device was directly next to the ears and closer to my brain therefore I was able to react faster.  Also I think that the reaction time visually was slower because first you visualize the box coming, you process seeing the box then you need to process clicking the button as fast as you can, when listening for the click it was faster because you only process by one sound then clicking the button. ",
      "metadata": {}
    },
    {
      "cell_type": "markdown",
      "source": "### Conclusion\nBecause the clicker was next to the ear, reaction time was quicker since there was only one synapse to go through instead of multiple synapses with the visual reaction time. ",
      "metadata": {}
    }
  ]
}