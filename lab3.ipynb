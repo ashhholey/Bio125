{
  "metadata": {
    "language_info": {
      "name": ""
    },
    "kernelspec": {
      "name": "python",
      "display_name": "Python (Pyodide)",
      "language": "python"
    }
  },
  "nbformat_minor": 4,
  "nbformat": 4,
  "cells": [
    {
      "cell_type": "markdown",
      "source": "# Laboratory 3 Properties of Enzyme Action",
      "metadata": {}
    },
    {
      "cell_type": "markdown",
      "source": "### Purpose\nEnzymes are complex protiens that initate and accelerate specidic chemical reactions without being changed or used up. ",
      "metadata": {}
    },
    {
      "cell_type": "markdown",
      "source": "### Procedures\n* 3-C\n    1. add enough LITMUS POWDER to a container of DIARY CREAM to produce a medium blue color POUR 3ml of the litmus cream into 4 seperate test tubes. into 2 additional test tube pour 3 ml of 2% PANCREATIN. preincubate the litmus cream and the pancreatin seperately in a 37 degree water bath for 5 minutes. prepare 4 test tubes as follows\n            ** Tube 1 - 3 ml cream, 3 ml pancreatin\n            ** Tube 2 - 3 ml cream, 3 ml distilled water\n            ** Tube 3 - 3 ml cream, 3 ml pancreatin, pinch of bile salts\n            ** Tube 4 - 3 ml cream, 3 ml distilled water, pinch of bile salts \n    2. gently shake each tube for 30 seconds to mix in the bile salts. incubate all 4 tubes in a 37 degree water bath for 1 hours, checking every minute for the first 5 mins or until the first tube changes color, then for every 15 mins for the rest of the hour. record the time and number of the tube\n    3. remove the tubes from the water bath. test the pH of each tube using pH paper and note the odor and color of each tube",
      "metadata": {}
    },
    {
      "cell_type": "markdown",
      "source": "### Results\n\nTube     Color        pH          Odor               Time to change color\n1        pink         5          spoiled milk          20 mins\n2        blue         6          no scent              35 mins\n3      lavendar       3          swiss cheese          35 mins\n4      periwinkle     6          no scent              35 mins\n",
      "metadata": {}
    },
    {
      "cell_type": "markdown",
      "source": "### Discussion\n* fats affect the pH of the solution by lowering pH and creating a foul sent to cream\n* bile affects the rate of digestion by raising pH and causing a color change ",
      "metadata": {}
    },
    {
      "cell_type": "markdown",
      "source": "### Conclusion\nthe emulisification of fats is easier to digest with bile enzymes",
      "metadata": {}
    }
  ]
}