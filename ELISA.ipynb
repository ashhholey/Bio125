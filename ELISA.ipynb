{
 "cells": [
  {
   "cell_type": "code",
   "execution_count": null,
   "id": "80f598fd-2628-4e1b-843c-b738c24a34f8",
   "metadata": {},
   "outputs": [],
   "source": [
    "# Elisa Lab"
   ]
  },
  {
   "cell_type": "code",
   "execution_count": null,
   "id": "27a2a1de-3f1a-4f91-95d7-ce17534178f0",
   "metadata": {},
   "outputs": [],
   "source": [
    "## Purpose\n",
    "ELISA is a laboratory techinque that detects certain antibodies, antigens and other substances in your blood, pee or other body fluids/"
   ]
  },
  {
   "cell_type": "code",
   "execution_count": null,
   "id": "8b19b4ec-fe9d-4fc0-a025-95a5f3130d73",
   "metadata": {},
   "outputs": [],
   "source": [
    "## Methods\n",
    "1. Label the tubes to identify the samples being tested\n",
    "2. Label your 12 well strip. On ech strip label the first 3 wells with a + for the positive controld and the next 3 wells with a - for the negative controls. Label the remaining wells to identify the samples being tested. (3 wells each)\n",
    "3. Use a fresh pipet tip to transfer 50 microliter of purified antigen (AG) into each of the 12 wells of the microplate strip\n",
    "4. Wait 5 minutes for the antigen to bind to the plastic wells\n",
    "5. Wash\n",
    "    -tip the microplate strip upside down onto the paper towels, and gently tap the strip a few times upside down. Make sure to avoid splashing sample back into wells\n",
    "    -discard the top paper towel\n",
    "    -use your transfer pipet to fill each well with wash buffer, taking care not to spill over into neighboring wells. \n",
    "    -tip the microplate strip upside down onto the paper towels and tap\n",
    "    -discard the top 2-3 paper towels\n",
    "6. Repeat was step 5\n",
    "7. Use a fresh pipet tip to transfer 50 microliter of the positive control in the three wells\n",
    "8. Use a fresh pipet to transfer 50 microliter of the negative 50 microliter of the negative control into the three wells \n",
    "9. Transfer 50 microliters of each of your teams serum samples into each of the appropriately initiated three wells, using a fresh pipet tip for each serum sample\n",
    "10. Wait 5 minutes for the antibodies to bind to their targets\n",
    "11. Wash the unbound primary antibody out of the wells by repeating all of wash step 5 two times\n",
    "12. Use a fresh pipet tip to transfer 50 microliters of secondary antibody into each of the microplate strip\n",
    "13. Wait 5 minutes for the antibodies to bind to their targets\n",
    "14. Wash the unbound secondary antibody out of the wells by repeating was step 5 three times\n",
    "15. Use a fresh pipet tip to transfer 50 microliters of enzyme substrate into each of the 12 wells of the microplate strip\n",
    "16. Wait 5 minutes and observe and record the results"
   ]
  },
  {
   "cell_type": "code",
   "execution_count": 1,
   "id": "2ef5cf9b-1177-4a98-b869-fe84b45711d8",
   "metadata": {
    "tags": []
   },
   "outputs": [],
   "source": [
    "## Results\n",
    "\n",
    "\n",
    "# import module\n",
    "\n",
    "from tabulate import tabulate"
   ]
  },
  {
   "cell_type": "code",
   "execution_count": 3,
   "id": "4f6b0919-ef9b-4111-b301-44f1177763b2",
   "metadata": {
    "tags": []
   },
   "outputs": [
    {
     "name": "stdout",
     "output_type": "stream",
     "text": [
      "+-----------+-----------------+\n",
      "| Control   | Color           |\n",
      "+===========+=================+\n",
      "| +         | dark blue       |\n",
      "+-----------+-----------------+\n",
      "| -         | very light blue |\n",
      "+-----------+-----------------+\n",
      "| 15        | clear           |\n",
      "+-----------+-----------------+\n",
      "| 14        | dark blue       |\n",
      "+-----------+-----------------+\n",
      "| 13        | clear           |\n",
      "+-----------+-----------------+\n"
     ]
    }
   ],
   "source": [
    "# assign data\n",
    "mydata = [\n",
    "    [\"+\", \"dark blue\"], [\"-\", \"very light blue\"], [\"15\", \"clear\"], [\"14\", \"dark blue\"], [\"13\", \"clear\"]\n",
    "]\n",
    "\n",
    "# create header\n",
    "head = [\"Control\", \"Color\"]\n",
    "\n",
    "# display table\n",
    "print(tabulate(mydata, headers=head, tablefmt=\"grid\"))"
   ]
  },
  {
   "cell_type": "code",
   "execution_count": null,
   "id": "a1855f09-5653-4991-9afe-e5f674c2ad34",
   "metadata": {},
   "outputs": [],
   "source": [
    "## Discussion\n",
    "Antigens are stuck onto a plastic surface and when the sample is added, if it has the antibodies for the disease, it will bind to the antigen"
   ]
  },
  {
   "cell_type": "code",
   "execution_count": null,
   "id": "e0fe2f43-cd6b-4f16-8234-72c02d069d3a",
   "metadata": {},
   "outputs": [],
   "source": [
    "## Conclusion\n",
    "The controls that are colored mea"
   ]
  }
 ],
 "metadata": {
  "kernelspec": {
   "display_name": "Python 3 (ipykernel)",
   "language": "python",
   "name": "python3"
  },
  "language_info": {
   "codemirror_mode": {
    "name": "ipython",
    "version": 3
   },
   "file_extension": ".py",
   "mimetype": "text/x-python",
   "name": "python",
   "nbconvert_exporter": "python",
   "pygments_lexer": "ipython3",
   "version": "3.11.4"
  }
 },
 "nbformat": 4,
 "nbformat_minor": 5
}
