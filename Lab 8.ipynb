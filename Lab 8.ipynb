{
 "cells": [
  {
   "cell_type": "markdown",
   "id": "8da2757f",
   "metadata": {},
   "source": [
    "# Laboratory 8- Hormonal Activity: The Glucose Tolerance Test"
   ]
  },
  {
   "cell_type": "markdown",
   "id": "4f802fe8",
   "metadata": {},
   "source": [
    "# Purpose\n",
    "Tests the ability of the body (pancreas) to respond to an excess ingestion of glucose. The changes in blood glucose level following glucose ingestion are markedly different between the normal and diabetic person"
   ]
  },
  {
   "cell_type": "markdown",
   "id": "dde14882",
   "metadata": {},
   "source": [
    "# Procedures\n",
    "1. six student volunteers will be selected for this experiment. these subjects should report to the lab in the fasted state - not having eaten for 10-12 hours\n",
    "2. each students normal fasting blood glucose level will be determined using the test strips for the glucometer assigned to each student. each volunteer will clean a finger with 70% alcohol, then use a sterile lancet to obtain a drop of blood for the test\n",
    "3. each subject will then drink a lemon-flavored solution (Tru-Glu) of 25% glucose. the quantity of solution will be based on 1 g of glucose per kilogram of body weight. to determine body weight in kilograms, the weight in pounds will be divided by 2.2\n",
    "4. after ingesting the glucose, the subject will repeat the blood testing procedures every 30 minutes. testing will continue in this manner for 1 1/2 hours or until the end of the lab period\n",
    "5. record and graph the average of the class results of the blood glucose tests\n"
   ]
  },
  {
   "cell_type": "code",
   "execution_count": 10,
   "id": "ea945835",
   "metadata": {},
   "outputs": [],
   "source": [
    "# Results\n",
    "\n",
    "# importing libraries\n",
    "import matplotlib.pyplot as plt\n",
    "import pandas as pd"
   ]
  },
  {
   "cell_type": "code",
   "execution_count": 8,
   "id": "0629108c",
   "metadata": {},
   "outputs": [
    {
     "data": {
      "text/html": [
       "<div>\n",
       "<style scoped>\n",
       "    .dataframe tbody tr th:only-of-type {\n",
       "        vertical-align: middle;\n",
       "    }\n",
       "\n",
       "    .dataframe tbody tr th {\n",
       "        vertical-align: top;\n",
       "    }\n",
       "\n",
       "    .dataframe thead th {\n",
       "        text-align: right;\n",
       "    }\n",
       "</style>\n",
       "<table border=\"1\" class=\"dataframe\">\n",
       "  <thead>\n",
       "    <tr style=\"text-align: right;\">\n",
       "      <th></th>\n",
       "      <th>1_Fasting</th>\n",
       "      <th>2_Fasting</th>\n",
       "      <th>3_Fasting</th>\n",
       "      <th>4_Fasting</th>\n",
       "      <th>5_nonfasting</th>\n",
       "      <th>6_nonfasting</th>\n",
       "      <th>7_nonfasting</th>\n",
       "      <th>8_nonfasting</th>\n",
       "      <th>Fasting_avg</th>\n",
       "      <th>Fasting_sem</th>\n",
       "      <th>Nonfasting_avg</th>\n",
       "      <th>Nonfasting_sem</th>\n",
       "    </tr>\n",
       "    <tr>\n",
       "      <th>Group</th>\n",
       "      <th></th>\n",
       "      <th></th>\n",
       "      <th></th>\n",
       "      <th></th>\n",
       "      <th></th>\n",
       "      <th></th>\n",
       "      <th></th>\n",
       "      <th></th>\n",
       "      <th></th>\n",
       "      <th></th>\n",
       "      <th></th>\n",
       "      <th></th>\n",
       "    </tr>\n",
       "  </thead>\n",
       "  <tbody>\n",
       "    <tr>\n",
       "      <th>0min</th>\n",
       "      <td>72</td>\n",
       "      <td>59</td>\n",
       "      <td>75</td>\n",
       "      <td>84</td>\n",
       "      <td>86</td>\n",
       "      <td>101</td>\n",
       "      <td>103</td>\n",
       "      <td>73</td>\n",
       "      <td>72.50</td>\n",
       "      <td>5.172040</td>\n",
       "      <td>90.75</td>\n",
       "      <td>7.028217</td>\n",
       "    </tr>\n",
       "    <tr>\n",
       "      <th>30min</th>\n",
       "      <td>95</td>\n",
       "      <td>113</td>\n",
       "      <td>132</td>\n",
       "      <td>115</td>\n",
       "      <td>203</td>\n",
       "      <td>159</td>\n",
       "      <td>127</td>\n",
       "      <td>89</td>\n",
       "      <td>113.75</td>\n",
       "      <td>7.564996</td>\n",
       "      <td>144.50</td>\n",
       "      <td>24.185050</td>\n",
       "    </tr>\n",
       "    <tr>\n",
       "      <th>60min</th>\n",
       "      <td>115</td>\n",
       "      <td>136</td>\n",
       "      <td>176</td>\n",
       "      <td>140</td>\n",
       "      <td>208</td>\n",
       "      <td>122</td>\n",
       "      <td>129</td>\n",
       "      <td>145</td>\n",
       "      <td>141.75</td>\n",
       "      <td>12.664748</td>\n",
       "      <td>151.00</td>\n",
       "      <td>19.600170</td>\n",
       "    </tr>\n",
       "    <tr>\n",
       "      <th>90min</th>\n",
       "      <td>118</td>\n",
       "      <td>118</td>\n",
       "      <td>133</td>\n",
       "      <td>125</td>\n",
       "      <td>82</td>\n",
       "      <td>119</td>\n",
       "      <td>119</td>\n",
       "      <td>131</td>\n",
       "      <td>123.50</td>\n",
       "      <td>3.570714</td>\n",
       "      <td>112.75</td>\n",
       "      <td>10.633085</td>\n",
       "    </tr>\n",
       "  </tbody>\n",
       "</table>\n",
       "</div>"
      ],
      "text/plain": [
       "       1_Fasting  2_Fasting  3_Fasting  4_Fasting  5_nonfasting  6_nonfasting  \\\n",
       "Group                                                                           \n",
       "0min          72         59         75         84            86           101   \n",
       "30min         95        113        132        115           203           159   \n",
       "60min        115        136        176        140           208           122   \n",
       "90min        118        118        133        125            82           119   \n",
       "\n",
       "       7_nonfasting  8_nonfasting  Fasting_avg  Fasting_sem  Nonfasting_avg  \\\n",
       "Group                                                                         \n",
       "0min            103            73        72.50     5.172040           90.75   \n",
       "30min           127            89       113.75     7.564996          144.50   \n",
       "60min           129           145       141.75    12.664748          151.00   \n",
       "90min           119           131       123.50     3.570714          112.75   \n",
       "\n",
       "       Nonfasting_sem  \n",
       "Group                  \n",
       "0min         7.028217  \n",
       "30min       24.185050  \n",
       "60min       19.600170  \n",
       "90min       10.633085  "
      ]
     },
     "execution_count": 8,
     "metadata": {},
     "output_type": "execute_result"
    }
   ],
   "source": [
    "\n",
    "df = pd.read_excel (r'./Glucose Tolerance Testing.xlsx', index_col=0)\n",
    "df"
   ]
  },
  {
   "cell_type": "code",
   "execution_count": 9,
   "id": "f7628e61",
   "metadata": {},
   "outputs": [
    {
     "data": {
      "text/plain": [
       "Text(0, 0.5, 'Blood Glucose (mg/dL)')"
      ]
     },
     "execution_count": 9,
     "metadata": {},
     "output_type": "execute_result"
    },
    {
     "data": {
      "image/png": "[encoded data removed]",
      "text/plain": [
       "<Figure size 640x480 with 1 Axes>"
      ]
     },
     "metadata": {},
     "output_type": "display_data"
    }
   ],
   "source": [
    "\n",
    "fig, ax = plt.subplots()\n",
    "df.plot.line(ax = ax, y = 'Fasting_avg',color = 'r', marker = 'o', yerr = 'Fasting_sem', capsize=5)\n",
    "df.plot.line(ax = ax, y = 'Nonfasting_avg',color = 'b', marker = 'o', yerr = 'Nonfasting_sem', capsize=5)\n",
    "ax.set_xlabel(\"Time (min)\")\n",
    "ax.set_ylabel(\"Blood Glucose (mg/dL)\")"
   ]
  },
  {
   "cell_type": "markdown",
   "id": "175994cc",
   "metadata": {},
   "source": [
    "# Discussion\n",
    "students who fasted for 10+ hours started at a blood glucose level of lower than 80 mg/dL after 30 minutes their blood glucose rose over 30 mg/dL. The highest level of glucose rise happened after 1 hour of taking the glucose drink.  After the hour blood glucose started dropping. "
   ]
  },
  {
   "cell_type": "markdown",
   "id": "0ce2819d",
   "metadata": {},
   "source": [
    "# Conclusion\n",
    "the blood glucose for the students that fasted all day was significantly lower than the students who ate during the day"
   ]
  },
  {
   "cell_type": "code",
   "execution_count": null,
   "id": "d069642d",
   "metadata": {},
   "outputs": [],
   "source": []
  }
 ],
 "metadata": {
  "kernelspec": {
   "display_name": "Python 3 (ipykernel)",
   "language": "python",
   "name": "python3"
  },
  "language_info": {
   "codemirror_mode": {
    "name": "ipython",
    "version": 3
   },
   "file_extension": ".py",
   "mimetype": "text/x-python",
   "name": "python",
   "nbconvert_exporter": "python",
   "pygments_lexer": "ipython3",
   "version": "3.11.4"
  }
 },
 "nbformat": 4,
 "nbformat_minor": 5
}
