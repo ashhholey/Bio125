{
 "cells": [
  {
   "cell_type": "code",
   "execution_count": 9,
   "id": "31496134",
   "metadata": {},
   "outputs": [],
   "source": [
    "# import packages\n",
    "import statistics \n",
    "import pandas as pd\n",
    "import scipy.stats as stats\n",
    "from scipy.stats import sem\n",
    "from statistics import mean, stdev\n",
    "import matplotlib.pyplot as plt\n",
    "import numpy as np\n",
    "#include if using a jupyter notebook, remove if using a .py file\n",
    "%matplotlib inline "
   ]
  },
  {
   "cell_type": "markdown",
   "id": "3d5ff337",
   "metadata": {},
   "source": [
    "# Laboratory 14- Respiratory Physiology"
   ]
  },
  {
   "cell_type": "markdown",
   "id": "9eca258d",
   "metadata": {},
   "source": [
    "## Purpose\n",
    "The movement of air in and out of lungs is essential to maintain the important process of cellular respiration, the oxidation of nutrient molecules. The rhythmic inflation and deflation of the lungs (ventilation) simultaneously satisfies the continious demands of cells for supply of oxygen and subsequent elimination of carbon dioxide.  The volumes of air involved in pulmonary ventilation may be measured with a device known as a spirometer. In this lab, the lung capacities of tidal volume, vital capacity, inspiratory capacity, inspiratory reserve volume, expiratory reserve reserve volume will be recorded for student volunteers. Timed vital capacity or forced expiratory volume will also be calculated."
   ]
  },
  {
   "cell_type": "markdown",
   "id": "a8e4dadc",
   "metadata": {},
   "source": [
    "## Methods\n",
    "14-B Forced Vital Capacity or FEV1 ComPAS Pneumotrac\n",
    "\n",
    "1. The Morgan ComPAS computer program has already calculated and factored in the BTPS correction factor\n",
    "2. Fully insert the Pnumotrac filter/mouthpiece \n",
    "3. Be sure the correct student information is loaded up before you start the FVC test\n",
    "4. After starting FVC test, follow the verbal instructions of your instructor\n",
    "\n",
    "14-C Portable Spirometry\n",
    "1. Open the grey plastic box on your lab desk that says \"BASELINE Lung Capacity Spirometer\". In the box is a white paper that has specific instructions, please read \"how to use\"\n",
    "2. Insert the clear plastic mouthpiece on the Windmill-type spirometer and make sure the measurement indicator is at the zero position before beginning\n",
    "3. Make sure you only exhale into the spirometer, DO NOT inhale from it\n",
    "4. After exhaling, record the measurement from the spirometer. Be sure to place your used plastic mouthpiece in the correct tub after use "
   ]
  },
  {
   "cell_type": "markdown",
   "id": "647f09e6",
   "metadata": {},
   "source": [
    "## Results\n",
    "import pandas as pd"
   ]
  },
  {
   "cell_type": "code",
   "execution_count": 5,
   "id": "d1c9ad77",
   "metadata": {},
   "outputs": [
    {
     "data": {
      "text/html": [
       "<div>\n",
       "<style scoped>\n",
       "    .dataframe tbody tr th:only-of-type {\n",
       "        vertical-align: middle;\n",
       "    }\n",
       "\n",
       "    .dataframe tbody tr th {\n",
       "        vertical-align: top;\n",
       "    }\n",
       "\n",
       "    .dataframe thead th {\n",
       "        text-align: right;\n",
       "    }\n",
       "</style>\n",
       "<table border=\"1\" class=\"dataframe\">\n",
       "  <thead>\n",
       "    <tr style=\"text-align: right;\">\n",
       "      <th></th>\n",
       "      <th>Sex</th>\n",
       "      <th>VC</th>\n",
       "      <th>FEV1</th>\n",
       "      <th>VC Average</th>\n",
       "      <th>FEV1 Average</th>\n",
       "      <th>VC Stdev</th>\n",
       "      <th>FEV1 Stdev</th>\n",
       "      <th>Unnamed: 7</th>\n",
       "      <th>Unnamed: 8</th>\n",
       "      <th>Male VC</th>\n",
       "      <th>Female VC</th>\n",
       "      <th>Male FEV1</th>\n",
       "      <th>Female FEV1</th>\n",
       "      <th>Male VCStdev</th>\n",
       "      <th>Female VC  Stdev</th>\n",
       "      <th>Male FEV1 Stdev</th>\n",
       "      <th>Female FEV1 Stdev</th>\n",
       "    </tr>\n",
       "  </thead>\n",
       "  <tbody>\n",
       "    <tr>\n",
       "      <th>0</th>\n",
       "      <td>F</td>\n",
       "      <td>3.2</td>\n",
       "      <td>2.08</td>\n",
       "      <td>3.350000</td>\n",
       "      <td>3.095</td>\n",
       "      <td>0.387298</td>\n",
       "      <td>0.747819</td>\n",
       "      <td>NaN</td>\n",
       "      <td>NaN</td>\n",
       "      <td>4.83333</td>\n",
       "      <td>3.35</td>\n",
       "      <td>4.49</td>\n",
       "      <td>3.095</td>\n",
       "      <td>0.416333</td>\n",
       "      <td>0.387298</td>\n",
       "      <td>0.363456</td>\n",
       "      <td>0.747819</td>\n",
       "    </tr>\n",
       "    <tr>\n",
       "      <th>1</th>\n",
       "      <td>F</td>\n",
       "      <td>3.3</td>\n",
       "      <td>3.12</td>\n",
       "      <td>NaN</td>\n",
       "      <td>NaN</td>\n",
       "      <td>NaN</td>\n",
       "      <td>NaN</td>\n",
       "      <td>NaN</td>\n",
       "      <td>NaN</td>\n",
       "      <td>NaN</td>\n",
       "      <td>NaN</td>\n",
       "      <td>NaN</td>\n",
       "      <td>NaN</td>\n",
       "      <td>NaN</td>\n",
       "      <td>NaN</td>\n",
       "      <td>NaN</td>\n",
       "      <td>NaN</td>\n",
       "    </tr>\n",
       "    <tr>\n",
       "      <th>2</th>\n",
       "      <td>F</td>\n",
       "      <td>3.9</td>\n",
       "      <td>3.87</td>\n",
       "      <td>NaN</td>\n",
       "      <td>NaN</td>\n",
       "      <td>NaN</td>\n",
       "      <td>NaN</td>\n",
       "      <td>NaN</td>\n",
       "      <td>NaN</td>\n",
       "      <td>NaN</td>\n",
       "      <td>NaN</td>\n",
       "      <td>NaN</td>\n",
       "      <td>NaN</td>\n",
       "      <td>NaN</td>\n",
       "      <td>NaN</td>\n",
       "      <td>NaN</td>\n",
       "      <td>NaN</td>\n",
       "    </tr>\n",
       "    <tr>\n",
       "      <th>3</th>\n",
       "      <td>F</td>\n",
       "      <td>3.0</td>\n",
       "      <td>3.31</td>\n",
       "      <td>NaN</td>\n",
       "      <td>NaN</td>\n",
       "      <td>NaN</td>\n",
       "      <td>NaN</td>\n",
       "      <td>NaN</td>\n",
       "      <td>NaN</td>\n",
       "      <td>NaN</td>\n",
       "      <td>NaN</td>\n",
       "      <td>NaN</td>\n",
       "      <td>NaN</td>\n",
       "      <td>NaN</td>\n",
       "      <td>NaN</td>\n",
       "      <td>NaN</td>\n",
       "      <td>NaN</td>\n",
       "    </tr>\n",
       "    <tr>\n",
       "      <th>4</th>\n",
       "      <td>M</td>\n",
       "      <td>4.7</td>\n",
       "      <td>4.09</td>\n",
       "      <td>4.833333</td>\n",
       "      <td>4.490</td>\n",
       "      <td>0.416333</td>\n",
       "      <td>0.363456</td>\n",
       "      <td>NaN</td>\n",
       "      <td>NaN</td>\n",
       "      <td>NaN</td>\n",
       "      <td>NaN</td>\n",
       "      <td>NaN</td>\n",
       "      <td>NaN</td>\n",
       "      <td>NaN</td>\n",
       "      <td>NaN</td>\n",
       "      <td>NaN</td>\n",
       "      <td>NaN</td>\n",
       "    </tr>\n",
       "    <tr>\n",
       "      <th>5</th>\n",
       "      <td>M</td>\n",
       "      <td>5.3</td>\n",
       "      <td>4.80</td>\n",
       "      <td>NaN</td>\n",
       "      <td>NaN</td>\n",
       "      <td>NaN</td>\n",
       "      <td>NaN</td>\n",
       "      <td>NaN</td>\n",
       "      <td>NaN</td>\n",
       "      <td>NaN</td>\n",
       "      <td>NaN</td>\n",
       "      <td>NaN</td>\n",
       "      <td>NaN</td>\n",
       "      <td>NaN</td>\n",
       "      <td>NaN</td>\n",
       "      <td>NaN</td>\n",
       "      <td>NaN</td>\n",
       "    </tr>\n",
       "    <tr>\n",
       "      <th>6</th>\n",
       "      <td>M</td>\n",
       "      <td>4.5</td>\n",
       "      <td>4.58</td>\n",
       "      <td>NaN</td>\n",
       "      <td>NaN</td>\n",
       "      <td>NaN</td>\n",
       "      <td>NaN</td>\n",
       "      <td>NaN</td>\n",
       "      <td>NaN</td>\n",
       "      <td>NaN</td>\n",
       "      <td>NaN</td>\n",
       "      <td>NaN</td>\n",
       "      <td>NaN</td>\n",
       "      <td>NaN</td>\n",
       "      <td>NaN</td>\n",
       "      <td>NaN</td>\n",
       "      <td>NaN</td>\n",
       "    </tr>\n",
       "  </tbody>\n",
       "</table>\n",
       "</div>"
      ],
      "text/plain": [
       "  Sex   VC  FEV1  VC Average  FEV1 Average  VC Stdev  FEV1 Stdev  Unnamed: 7  \\\n",
       "0   F  3.2  2.08    3.350000         3.095  0.387298    0.747819         NaN   \n",
       "1  F   3.3  3.12         NaN           NaN       NaN         NaN         NaN   \n",
       "2   F  3.9  3.87         NaN           NaN       NaN         NaN         NaN   \n",
       "3  F   3.0  3.31         NaN           NaN       NaN         NaN         NaN   \n",
       "4   M  4.7  4.09    4.833333         4.490  0.416333    0.363456         NaN   \n",
       "5   M  5.3  4.80         NaN           NaN       NaN         NaN         NaN   \n",
       "6   M  4.5  4.58         NaN           NaN       NaN         NaN         NaN   \n",
       "\n",
       "   Unnamed: 8  Male VC  Female VC  Male FEV1  Female FEV1  Male VCStdev  \\\n",
       "0         NaN  4.83333       3.35       4.49        3.095      0.416333   \n",
       "1         NaN      NaN        NaN        NaN          NaN           NaN   \n",
       "2         NaN      NaN        NaN        NaN          NaN           NaN   \n",
       "3         NaN      NaN        NaN        NaN          NaN           NaN   \n",
       "4         NaN      NaN        NaN        NaN          NaN           NaN   \n",
       "5         NaN      NaN        NaN        NaN          NaN           NaN   \n",
       "6         NaN      NaN        NaN        NaN          NaN           NaN   \n",
       "\n",
       "   Female VC  Stdev  Male FEV1 Stdev  Female FEV1 Stdev  \n",
       "0          0.387298         0.363456           0.747819  \n",
       "1               NaN              NaN                NaN  \n",
       "2               NaN              NaN                NaN  \n",
       "3               NaN              NaN                NaN  \n",
       "4               NaN              NaN                NaN  \n",
       "5               NaN              NaN                NaN  \n",
       "6               NaN              NaN                NaN  "
      ]
     },
     "execution_count": 5,
     "metadata": {},
     "output_type": "execute_result"
    }
   ],
   "source": [
    "df = pd.read_excel(\"Lab 14 Results.xlsx\")\n",
    "df"
   ]
  },
  {
   "cell_type": "code",
   "execution_count": 10,
   "id": "1c010fb6",
   "metadata": {},
   "outputs": [],
   "source": [
    "VC_mean = mean(df.VC)"
   ]
  },
  {
   "cell_type": "code",
   "execution_count": 11,
   "id": "634d82c2",
   "metadata": {},
   "outputs": [
    {
     "data": {
      "text/plain": [
       "3.9857142857142858"
      ]
     },
     "execution_count": 11,
     "metadata": {},
     "output_type": "execute_result"
    }
   ],
   "source": [
    "VC_mean"
   ]
  },
  {
   "cell_type": "code",
   "execution_count": 14,
   "id": "2431456a",
   "metadata": {},
   "outputs": [],
   "source": [
    "FEV1_mean = mean(df.FEV1)"
   ]
  },
  {
   "cell_type": "code",
   "execution_count": 15,
   "id": "090e979a",
   "metadata": {},
   "outputs": [
    {
     "data": {
      "text/plain": [
       "3.692857142857143"
      ]
     },
     "execution_count": 15,
     "metadata": {},
     "output_type": "execute_result"
    }
   ],
   "source": [
    "FEV1_mean"
   ]
  },
  {
   "cell_type": "code",
   "execution_count": 16,
   "id": "51b415b0",
   "metadata": {},
   "outputs": [],
   "source": [
    "FEV1_sem = sem(df.VC)"
   ]
  },
  {
   "cell_type": "code",
   "execution_count": 18,
   "id": "0c4c0b71",
   "metadata": {},
   "outputs": [
    {
     "data": {
      "text/plain": [
       "0.32981132516043415"
      ]
     },
     "execution_count": 18,
     "metadata": {},
     "output_type": "execute_result"
    }
   ],
   "source": [
    "FEV1_sem"
   ]
  },
  {
   "cell_type": "code",
   "execution_count": 19,
   "id": "718e7dad",
   "metadata": {},
   "outputs": [],
   "source": [
    "VC_sem = sem(df.VC)"
   ]
  },
  {
   "cell_type": "code",
   "execution_count": 20,
   "id": "e9485896",
   "metadata": {},
   "outputs": [
    {
     "data": {
      "text/plain": [
       "0.32981132516043415"
      ]
     },
     "execution_count": 20,
     "metadata": {},
     "output_type": "execute_result"
    }
   ],
   "source": [
    "VC_sem"
   ]
  },
  {
   "cell_type": "code",
   "execution_count": 24,
   "id": "270ea02c",
   "metadata": {},
   "outputs": [
    {
     "data": {
      "image/png": "[encoded data removed]",
      "text/plain": [
       "<Figure size 640x480 with 1 Axes>"
      ]
     },
     "metadata": {},
     "output_type": "display_data"
    }
   ],
   "source": [
    "# build a bar plot\n",
    "plt.bar(['Male', 'Female'],[VC_mean, FEV1_mean], yerr=[VC_sem, FEV1_sem], capsize=10)\n",
    "plt.xlabel('Biological Sex')\n",
    "plt.ylabel('Volume (Liters)')\n",
    "plt.title('Male vs Female Vital Capacity and FEV1')\n",
    "plt.show()"
   ]
  },
  {
   "cell_type": "markdown",
   "id": "7790d6a7",
   "metadata": {},
   "source": [
    "## Discussion \n",
    "There is a difference between biological sex in the measurement of Vital Capacity and FEV1 because women have smaller airways and smaller lung size than males"
   ]
  },
  {
   "cell_type": "markdown",
   "id": "e034ad05",
   "metadata": {},
   "source": [
    "## Conclusion\n",
    "The VC decreases with respiratory systems that are weak. FEV1 are higher the healthier your lungs are "
   ]
  }
 ],
 "metadata": {
  "kernelspec": {
   "display_name": "Python 3 (ipykernel)",
   "language": "python",
   "name": "python3"
  },
  "language_info": {
   "codemirror_mode": {
    "name": "ipython",
    "version": 3
   },
   "file_extension": ".py",
   "mimetype": "text/x-python",
   "name": "python",
   "nbconvert_exporter": "python",
   "pygments_lexer": "ipython3",
   "version": "3.11.4"
  }
 },
 "nbformat": 4,
 "nbformat_minor": 5
}
